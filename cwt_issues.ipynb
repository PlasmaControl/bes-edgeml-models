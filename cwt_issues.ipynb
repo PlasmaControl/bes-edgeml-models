{
 "cells": [
  {
   "cell_type": "code",
   "execution_count": 1,
   "outputs": [],
   "source": [
    "import time\n",
    "\n",
    "import numpy as np\n",
    "import pywt\n",
    "import h5py\n",
    "import torch"
   ],
   "metadata": {
    "collapsed": false,
    "pycharm": {
     "name": "#%%\n"
    }
   }
  },
  {
   "cell_type": "code",
   "execution_count": 2,
   "metadata": {},
   "outputs": [],
   "source": [
    "path = 'unlabeled-elm-events/elm-events.hdf5'\n",
    "with h5py.File(path, 'r') as hf:\n",
    "    ids = list(hf.keys())\n",
    "    first_elm_id = ids[0]\n",
    "    second_elm_id = ids[1]\n",
    "    first_elm = np.array(hf[first_elm_id]['signals'], dtype=np.float32)\n",
    "    second_elm = np.array(hf[second_elm_id]['signals'], dtype=np.float32)\n",
    "first_elm = first_elm.T\n",
    "second_elm = second_elm.T"
   ]
  },
  {
   "cell_type": "code",
   "execution_count": 3,
   "metadata": {},
   "outputs": [],
   "source": [
    "max_scale = 512\n",
    "num = int(np.log2(max_scale)) + 1\n",
    "widths = np.round(\n",
    "    np.geomspace(1, max_scale, num=num, endpoint=True)\n",
    ").astype(int)"
   ]
  },
  {
   "cell_type": "code",
   "execution_count": null,
   "metadata": {},
   "outputs": [],
   "source": [
    "# first_elm_cwt, _ = pywt.cwt(first_elm, scales=widths, wavelet=\"morl\", axis=0)\n",
    "# first_elm_cwt = np.transpose(first_elm_cwt, (1, 0, 2))\n",
    "#\n",
    "# second_elm_cwt, _ = pywt.cwt(second_elm, scales=widths, wavelet=\"morl\", axis=0)\n",
    "# second_elm_cwt = np.transpose(second_elm_cwt, (1, 0, 2))"
   ]
  },
  {
   "cell_type": "code",
   "execution_count": 4,
   "outputs": [],
   "source": [
    "first_elm_tensor = torch.tensor(first_elm, dtype=torch.float32)\n",
    "second_elm_tensor = torch.tensor(second_elm, dtype=torch.float32)"
   ],
   "metadata": {
    "collapsed": false,
    "pycharm": {
     "name": "#%%\n"
    }
   }
  },
  {
   "cell_type": "code",
   "execution_count": 7,
   "outputs": [
    {
     "name": "stdout",
     "output_type": "stream",
     "text": [
      "Total time taken with numpy array: 0.04691557268607057\n"
     ]
    }
   ],
   "source": [
    "times_np = []\n",
    "for i in range(len(first_elm) - max_scale + 1):\n",
    "    start = time.time()\n",
    "    sws = first_elm[i: i+max_scale]\n",
    "    sws_cwt_np, _ = pywt.cwt(sws, scales=widths, wavelet=\"morl\", axis=0)\n",
    "    sws_cwt_np = np.transpose(sws_cwt_np, (1, 0, 2))\n",
    "    times_np.append(time.time() - start)\n",
    "total_time_taken_np = np.mean(times_np)\n",
    "print(f'Total time taken with numpy array: {total_time_taken_np}')"
   ],
   "metadata": {
    "collapsed": false,
    "pycharm": {
     "name": "#%%\n"
    }
   }
  },
  {
   "cell_type": "code",
   "execution_count": 8,
   "outputs": [
    {
     "name": "stdout",
     "output_type": "stream",
     "text": [
      "Total time taken with torch tensor: 0.04509874770985038\n"
     ]
    }
   ],
   "source": [
    "times_pt = []\n",
    "for i in range(len(first_elm) - max_scale + 1):\n",
    "    start = time.time()\n",
    "    sws = first_elm_tensor[i:i+max_scale]\n",
    "    sws = sws.numpy()\n",
    "    sws_cwt_pt, _ = pywt.cwt(sws, scales=widths, wavelet=\"morl\", axis=0)\n",
    "    sws_cwt_pt = np.transpose(sws_cwt_pt, (1, 0, 2))\n",
    "    sws_cwt_pt = torch.as_tensor(sws_cwt_pt, dtype=torch.float32)\n",
    "    times_pt.append(time.time() - start)\n",
    "total_time_taken_pt = np.mean(times_pt)\n",
    "print(f'Total time taken with torch tensor: {total_time_taken_pt}')"
   ],
   "metadata": {
    "collapsed": false,
    "pycharm": {
     "name": "#%%\n"
    }
   }
  },
  {
   "cell_type": "code",
   "execution_count": 16,
   "outputs": [],
   "source": [
    "x = np.random.rand(16, 1, 512, 8, 8)\n",
    "x_dwt = pywt.wavedec(x, 'db4', level=6, axis=2)"
   ],
   "metadata": {
    "collapsed": false,
    "pycharm": {
     "name": "#%%\n"
    }
   }
  },
  {
   "cell_type": "code",
   "execution_count": null,
   "outputs": [],
   "source": [],
   "metadata": {
    "collapsed": false,
    "pycharm": {
     "name": "#%%\n"
    }
   }
  }
 ],
 "metadata": {
  "interpreter": {
   "hash": "58d40277d0f592923549ebc60738af7a07e31c69ccc38dc0a8c681189308b517"
  },
  "kernelspec": {
   "display_name": "Python 3.8.12 64-bit ('torch': conda)",
   "language": "python",
   "name": "python3"
  },
  "language_info": {
   "codemirror_mode": {
    "name": "ipython",
    "version": 3
   },
   "file_extension": ".py",
   "mimetype": "text/x-python",
   "name": "python",
   "nbconvert_exporter": "python",
   "pygments_lexer": "ipython3",
   "version": "3.8.12"
  },
  "orig_nbformat": 4
 },
 "nbformat": 4,
 "nbformat_minor": 2
}