{
 "cells": [
  {
   "cell_type": "markdown",
   "id": "ac0c2b3c",
   "metadata": {
    "tags": []
   },
   "source": [
    "# Setup"
   ]
  },
  {
   "cell_type": "code",
   "execution_count": 1,
   "id": "2da50fae",
   "metadata": {
    "tags": []
   },
   "outputs": [
    {
     "name": "stdout",
     "output_type": "stream",
     "text": [
      "TF version: 2.4.1\n",
      "Available devices:\n",
      "  CPU, /physical_device:CPU:0\n",
      "  GPU, /physical_device:GPU:0\n",
      "  GPU, /physical_device:GPU:1\n",
      "Visible devices:\n",
      "  CPU, /physical_device:CPU:0\n",
      "  GPU, /physical_device:GPU:1\n"
     ]
    }
   ],
   "source": [
    "from pathlib import Path\n",
    "import datetime\n",
    "import numpy as np\n",
    "import matplotlib.pyplot as plt\n",
    "import h5py\n",
    "import tensorflow as tf\n",
    "from tensorflow import keras\n",
    "\n",
    "print('TF version:', tf.__version__)\n",
    "\n",
    "print('Available devices:')\n",
    "for device in tf.config.list_physical_devices():\n",
    "    print(f'  {device.device_type}, {device.name}')\n",
    "\n",
    "gpus = tf.config.list_physical_devices('GPU')\n",
    "cpus = tf.config.list_physical_devices('CPU')\n",
    "\n",
    "if gpus:\n",
    "    # limit GPU visibility to last GPU\n",
    "    tf.config.set_visible_devices([cpus[0], gpus[-1]])\n",
    "    # allow GPU memory growth\n",
    "    tf.config.experimental.set_memory_growth(gpus[-1], True)\n",
    "\n",
    "print('Visible devices:')\n",
    "for device in tf.config.get_visible_devices():\n",
    "    print(f'  {device.device_type}, {device.name}')\n",
    "\n",
    "%load_ext autoreload\n",
    "%autoreload 1\n",
    "\n",
    "%aimport model"
   ]
  },
  {
   "cell_type": "markdown",
   "id": "31328af5",
   "metadata": {},
   "source": [
    "# Read data"
   ]
  },
  {
   "cell_type": "code",
   "execution_count": 2,
   "id": "dd265823",
   "metadata": {
    "tags": []
   },
   "outputs": [
    {
     "name": "stdout",
     "output_type": "stream",
     "text": [
      "Datafile: data/labeled-elm-events-smithdr.hdf5\n",
      "Number of ELM events: 52\n",
      "Total time points: 311250\n",
      "Fraction active ELM: 5.15 %\n",
      "Fraction no ELM: 94.85 %\n",
      "shape (1245, 250, 8, 8) dtype <dtype: 'float32'> device GPU:0 min -0.9876285791397095 max 1.0\n",
      "shape (1245, 250) dtype <dtype: 'int8'> device GPU:0 min 0 max 1\n",
      "shape (1245, 250) dtype <dtype: 'int8'> device GPU:0 min 0 max 1\n"
     ]
    }
   ],
   "source": [
    "# read signals and labels\n",
    "\n",
    "datafile = Path('data/labeled-elm-events-smithdr.hdf5')\n",
    "\n",
    "super_window_size = 250\n",
    "\n",
    "signal_window_size = 8  # size of signal window in time domain for model input; e.g. 4, 8, 16\n",
    "label_look_ahead = 0  # label look ahead from end of signal window; e.g. 0, 1, 2\n",
    "total_window_size = signal_window_size + label_look_ahead\n",
    "\n",
    "max_elms = None\n",
    "\n",
    "with h5py.File(datafile, 'r') as hf:\n",
    "    print(f'Datafile: {datafile.as_posix()}')\n",
    "    print(f'Number of ELM events: {len(hf)}')\n",
    "    # loop over ELM events\n",
    "    for ielm, elm_event in enumerate(hf.values()):\n",
    "        if max_elms and ielm >= max_elms:\n",
    "            print(f'Limiting data read to {max_elms} ELM events')\n",
    "            break\n",
    "        n_super_windows = elm_event['labels'].size // super_window_size\n",
    "        # load BES signals and reshape\n",
    "        elm_signals_np = elm_event['signals'][..., 0:n_super_windows*super_window_size]\n",
    "        elm_signals_np = elm_signals_np.T.reshape(n_super_windows, super_window_size, 8, 8)\n",
    "        # load ELM labels and reshape\n",
    "        elm_labels_np = elm_event['labels'][0:n_super_windows*super_window_size]\n",
    "        elm_labels_np = elm_labels_np.reshape(n_super_windows, super_window_size)\n",
    "        # construct valid_t0 mask\n",
    "        valid_t0_np = np.ones(elm_labels_np.shape, dtype=np.int8)\n",
    "        valid_t0_np[:,-(total_window_size-1):] = 0\n",
    "        # convert to tensors\n",
    "        signals_tmp = tf.convert_to_tensor(elm_signals_np, dtype=tf.float32)\n",
    "        labels_tmp = tf.convert_to_tensor(elm_labels_np)\n",
    "        valid_t0_tmp = tf.convert_to_tensor(valid_t0_np)\n",
    "        if ielm == 0:\n",
    "            # initialize tensors\n",
    "            signals = signals_tmp\n",
    "            labels = labels_tmp\n",
    "            valid_t0 = valid_t0_tmp\n",
    "        else:\n",
    "            # concat new data\n",
    "            signals = tf.concat([signals, signals_tmp], 0)\n",
    "            labels = tf.concat([labels, labels_tmp], 0)\n",
    "            valid_t0 = tf.concat([valid_t0, valid_t0_tmp], 0)\n",
    "            \n",
    "# normalize signals\n",
    "signals = signals / np.max(np.abs(signals))\n",
    "            \n",
    "n_times = np.prod(labels.shape)\n",
    "n_elm_times = np.count_nonzero(np.array(labels) == 1)\n",
    "print(f'Total time points: {n_times}')\n",
    "print(f'Fraction active ELM: {n_elm_times/n_times*100.0:.2f} %')\n",
    "print(f'Fraction no ELM: {(n_times-n_elm_times)/n_times*100.0:.2f} %')\n",
    "\n",
    "for tensor in [signals, labels, valid_t0]:\n",
    "    print(f'shape {tensor.shape} dtype {tensor.dtype} device {tensor.device[-5:]} min {np.min(tensor)} max {np.max(tensor)}')"
   ]
  },
  {
   "cell_type": "markdown",
   "id": "efd6cc64",
   "metadata": {},
   "source": [
    "# Prepare data"
   ]
  },
  {
   "cell_type": "code",
   "execution_count": 3,
   "id": "cc5add88",
   "metadata": {
    "tags": []
   },
   "outputs": [
    {
     "name": "stdout",
     "output_type": "stream",
     "text": [
      "Shuffling super windows ...\n",
      "Tensors with shuffled super windows\n",
      "shape (1245, 250, 8, 8) dtype <dtype: 'float32'> device GPU:0\n",
      "shape (1245, 250) dtype <dtype: 'int8'> device CPU:0\n",
      "shape (1245, 250) dtype <dtype: 'int8'> device CPU:0\n"
     ]
    }
   ],
   "source": [
    "# shuffle super-windows\n",
    "\n",
    "n_super_windows = signals.shape[0]\n",
    "shuffled_indices = tf.random.shuffle(tf.range(n_super_windows))\n",
    "\n",
    "def apply_shuffle(tensor):\n",
    "    return tf.gather(tensor, shuffled_indices, axis=0)\n",
    "\n",
    "print('Shuffling super windows ...')\n",
    "\n",
    "signals = apply_shuffle(signals)\n",
    "labels = apply_shuffle(labels)\n",
    "valid_t0 = apply_shuffle(valid_t0)\n",
    "\n",
    "print('Tensors with shuffled super windows')\n",
    "for tensor in [signals, labels, valid_t0]:\n",
    "    print(f'shape {tensor.shape} dtype {tensor.dtype} device {tensor.device[-5:]}')"
   ]
  },
  {
   "cell_type": "code",
   "execution_count": 4,
   "id": "c7f39f45",
   "metadata": {},
   "outputs": [
    {
     "name": "stdout",
     "output_type": "stream",
     "text": [
      "Reshaped tensors with concatenated super windows\n",
      "shape (311250, 8, 8) dtype <dtype: 'float32'> device GPU:0\n",
      "shape (311250,) dtype <dtype: 'int8'> device GPU:0\n",
      "shape (311250,) dtype <dtype: 'int32'> device CPU:0\n"
     ]
    }
   ],
   "source": [
    "# reshape and make valid indices\n",
    "\n",
    "# temp reshapes\n",
    "signals_temp = tf.reshape(signals, [-1,8,8])\n",
    "labels_temp = tf.reshape(labels, [-1])\n",
    "valid_t0_temp = tf.reshape(valid_t0, [-1])\n",
    "\n",
    "# make valid indices\n",
    "valid_indices_temp = np.arange(valid_t0_temp.shape[0])\n",
    "valid_indices_temp[valid_t0_temp == 0] = -1  # final usage for `valid_t0` tensors; safe to delete\n",
    "valid_indices_temp = tf.convert_to_tensor(valid_indices_temp, dtype=tf.int32)\n",
    "\n",
    "print('Reshaped tensors with concatenated super windows')\n",
    "for tensor in [signals_temp, labels_temp, valid_indices_temp]:\n",
    "    print(f'shape {tensor.shape} dtype {tensor.dtype} device {tensor.device[-5:]}')"
   ]
  },
  {
   "cell_type": "code",
   "execution_count": 5,
   "id": "97e774cc",
   "metadata": {},
   "outputs": [
    {
     "name": "stdout",
     "output_type": "stream",
     "text": [
      "Super window partition: n_train 872 n_validate 62 n_test 311\n",
      "Training tensors\n",
      "shape (218000, 8, 8) dtype <dtype: 'float32'> device GPU:0\n",
      "shape (218000,) dtype <dtype: 'int8'> device GPU:0\n",
      "shape (218000,) dtype <dtype: 'int32'> device GPU:0\n"
     ]
    }
   ],
   "source": [
    "# partition into training, validation, and testing\n",
    "\n",
    "fraction_validate = 0.05  # validation data for evaluation after each epoch\n",
    "fraction_test = 0.25  # test data for evaluation after training\n",
    "\n",
    "n_validate = np.int(fraction_validate * n_super_windows)\n",
    "n_test = np.int(fraction_test * n_super_windows)\n",
    "n_train = n_super_windows - n_test - n_validate\n",
    "print(f'Super window partition: n_train {n_train} n_validate {n_validate} n_test {n_test}')\n",
    "\n",
    "def partition_data(tensor):\n",
    "    cut_1 = n_train * super_window_size\n",
    "    cut_2 = cut_1 + (n_validate * super_window_size)\n",
    "    return (tensor[:cut_1, ...],  # training partition\n",
    "        tensor[cut_1:cut_2, ...],  # validation partition\n",
    "        tensor[cut_2:, ...],  # testing partition\n",
    "        )\n",
    "\n",
    "# partition\n",
    "signals_train, signals_validate, signals_test = partition_data(signals_temp)\n",
    "labels_train, labels_validate, labels_test = partition_data(labels_temp)\n",
    "valid_indices_train, valid_indices_validate, valid_indices_test = partition_data(valid_indices_temp)\n",
    "\n",
    "del(signals_temp, labels_temp, valid_t0_temp, valid_indices_temp)\n",
    "\n",
    "print('Training tensors')\n",
    "for tensor in [signals_train, labels_train, valid_indices_train]:\n",
    "    print(f'shape {tensor.shape} dtype {tensor.dtype} device {tensor.device[-5:]}')"
   ]
  },
  {
   "cell_type": "code",
   "execution_count": 6,
   "id": "6bfa98b6",
   "metadata": {},
   "outputs": [
    {
     "name": "stdout",
     "output_type": "stream",
     "text": [
      "Training tensors\n",
      "shape (218000, 8, 8) dtype <dtype: 'float32'> device GPU:0\n",
      "shape (218000,) dtype <dtype: 'int8'> device GPU:0\n",
      "shape (211896,) dtype <dtype: 'int32'> device GPU:0\n"
     ]
    }
   ],
   "source": [
    "# remove invalid `-1` elements from valid indices tensors\n",
    "\n",
    "# resulting tensors contain valid indices for indexing into `signals` and `labels`\n",
    "# to generate signal windows and labels.\n",
    "\n",
    "def remove_invalid_incides_and_shuffle(tensor):\n",
    "    tensor = tensor[tensor != -1]\n",
    "    tesnor = tf.random.shuffle(tensor)\n",
    "    assert(np.all(tensor >=0))\n",
    "    return tensor\n",
    "\n",
    "valid_indices_train = remove_invalid_incides_and_shuffle(valid_indices_train)\n",
    "valid_indices_validate = remove_invalid_incides_and_shuffle(valid_indices_validate)\n",
    "valid_indices_test = remove_invalid_incides_and_shuffle(valid_indices_test)\n",
    "\n",
    "print('Training tensors')\n",
    "for tensor in [signals_train, labels_train, valid_indices_train]:\n",
    "    print(f'shape {tensor.shape} dtype {tensor.dtype} device {tensor.device[-5:]}')"
   ]
  },
  {
   "cell_type": "code",
   "execution_count": 7,
   "id": "420fcdbe",
   "metadata": {
    "tags": []
   },
   "outputs": [
    {
     "data": {
      "text/plain": [
       "<FlatMapDataset shapes: ((8, 8, 8, 1), (1,)), types: (tf.float32, tf.int8)>"
      ]
     },
     "execution_count": 7,
     "metadata": {},
     "output_type": "execute_result"
    }
   ],
   "source": [
    "# create datasets with valid indices\n",
    "\n",
    "def make_generator(valid_indices, signals, labels):\n",
    "    def generator():\n",
    "        i = 0\n",
    "        while i < valid_indices.shape[0]:\n",
    "            signal_window = tf.reshape(signals[i:i+signal_window_size, ...], \n",
    "                                       [signal_window_size,8,8,1])\n",
    "            label = tf.reshape(labels[i+signal_window_size+label_look_ahead], [1,])\n",
    "            i += 1\n",
    "            yield signal_window, label\n",
    "    return generator\n",
    "\n",
    "generator_train = make_generator(valid_indices_train, signals_train, labels_train)\n",
    "generator_validate = make_generator(valid_indices_validate, signals_validate, labels_validate)\n",
    "generator_test = make_generator(valid_indices_test, signals_test, labels_test)\n",
    "\n",
    "dtypes = (signals_train.dtype, labels_train.dtype)\n",
    "shapes = (tf.TensorShape([signal_window_size,8,8,1]), tf.TensorShape([1]))\n",
    "\n",
    "# create datasets\n",
    "ds_train = tf.data.Dataset.from_generator(generator_train, dtypes, output_shapes=shapes)\n",
    "ds_validate = tf.data.Dataset.from_generator(generator_validate, dtypes, output_shapes=shapes)\n",
    "ds_test = tf.data.Dataset.from_generator(generator_test, dtypes, output_shapes=shapes)\n",
    "\n",
    "ds_train"
   ]
  },
  {
   "cell_type": "code",
   "execution_count": 8,
   "id": "1e1ade79",
   "metadata": {
    "tags": []
   },
   "outputs": [
    {
     "data": {
      "text/plain": [
       "<PrefetchDataset shapes: ((None, 8, 8, 8, 1), (None, 1)), types: (tf.float32, tf.int8)>"
      ]
     },
     "execution_count": 8,
     "metadata": {},
     "output_type": "execute_result"
    }
   ],
   "source": [
    "# batch, prefetch, and cache\n",
    "\n",
    "training_batch_size = 4\n",
    "\n",
    "# def batch_and_prefetch(dataset):\n",
    "#     return dataset.batch(batch_size).prefetch(16).shuffle(1000, reshuffle_each_iteration=True)\n",
    "\n",
    "# ds_train = batch_and_prefetch(ds_train)\n",
    "# ds_validate = batch_and_prefetch(ds_validate)\n",
    "# ds_test = batch_and_prefetch(ds_test)\n",
    "\n",
    "ds_train = ds_train.batch(training_batch_size).shuffle(2000, reshuffle_each_iteration=True).prefetch(tf.data.AUTOTUNE)\n",
    "ds_validate = ds_validate.batch(16).prefetch(tf.data.AUTOTUNE)\n",
    "ds_test = ds_test.batch(16).prefetch(tf.data.AUTOTUNE)\n",
    "\n",
    "ds_train"
   ]
  },
  {
   "cell_type": "markdown",
   "id": "a7b2a656",
   "metadata": {
    "tags": []
   },
   "source": [
    "# Train model"
   ]
  },
  {
   "cell_type": "code",
   "execution_count": 9,
   "id": "401783a4",
   "metadata": {
    "tags": []
   },
   "outputs": [
    {
     "name": "stdout",
     "output_type": "stream",
     "text": [
      "Filter 1 shape (8, 3, 3) count 14 params 1022\n",
      "Filter 2 shape (1, 3, 3) count 18 params 2286\n",
      "Model: \"model\"\n",
      "_________________________________________________________________\n",
      "Layer (type)                 Output Shape              Param #   \n",
      "=================================================================\n",
      "input_1 (InputLayer)         [(None, 8, 8, 8, 1)]      0         \n",
      "_________________________________________________________________\n",
      "conv3d (Conv3D)              (None, 1, 6, 6, 14)       1022      \n",
      "_________________________________________________________________\n",
      "dropout (Dropout)            (None, 1, 6, 6, 14)       0         \n",
      "_________________________________________________________________\n",
      "conv3d_1 (Conv3D)            (None, 1, 4, 4, 18)       2286      \n",
      "_________________________________________________________________\n",
      "dropout_1 (Dropout)          (None, 1, 4, 4, 18)       0         \n",
      "_________________________________________________________________\n",
      "flatten (Flatten)            (None, 288)               0         \n",
      "_________________________________________________________________\n",
      "dense (Dense)                (None, 50)                14450     \n",
      "_________________________________________________________________\n",
      "dropout_2 (Dropout)          (None, 50)                0         \n",
      "_________________________________________________________________\n",
      "dense_1 (Dense)              (None, 30)                1530      \n",
      "_________________________________________________________________\n",
      "dropout_3 (Dropout)          (None, 30)                0         \n",
      "=================================================================\n",
      "Total params: 19,288\n",
      "Trainable params: 19,288\n",
      "Non-trainable params: 0\n",
      "_________________________________________________________________\n",
      "Learning rate halves every 2 epochs (52974 training steps)\n",
      "log dir: logs/20210405-154451\n",
      "[0.142456516623497, 0.0020384415984153748, 1.0, 0.0020384415984153748, 1.0]\n"
     ]
    }
   ],
   "source": [
    "# initiate model, compile, and verify single evaluation\n",
    "\n",
    "test_model = model.cnn_model(\n",
    "    n_lookback=signal_window_size,\n",
    "    n_filters_1=14,\n",
    "    n_filters_2=18,\n",
    "    n_dense_1=50,\n",
    "    n_dense_2=30,\n",
    "    dropout_rate=0.1,\n",
    "    l2_factor=1e-3,\n",
    ")\n",
    "\n",
    "batches_per_epoch = valid_indices_train.shape[0] // training_batch_size\n",
    "\n",
    "lr_schedule = model.CustomSchedule(\n",
    "    initial_learning_rate=1e-3,\n",
    "    batches_per_epoch=batches_per_epoch,\n",
    "    epochs_per_halving=2,\n",
    ")\n",
    "\n",
    "optimizer = keras.optimizers.SGD(\n",
    "    learning_rate=lr_schedule,\n",
    ")\n",
    "\n",
    "loss = keras.losses.BinaryCrossentropy()\n",
    "\n",
    "metrics = [\n",
    "    keras.metrics.BinaryCrossentropy(),\n",
    "    keras.metrics.BinaryAccuracy(),\n",
    "]\n",
    "\n",
    "log_dir = \"logs/\" + datetime.datetime.now().strftime(\"%Y%m%d-%H%M%S\")\n",
    "print(f'log dir: {log_dir}')\n",
    "\n",
    "# file_writer = tf.summary.create_file_writer(log_dir + \"/metrics\")\n",
    "# file_writer.set_as_default()\n",
    "\n",
    "\n",
    "tensorboard_callback = tf.keras.callbacks.TensorBoard(\n",
    "    log_dir=log_dir, \n",
    "    histogram_freq=1,\n",
    "    update_freq=5000,\n",
    ")\n",
    "\n",
    "earlystop_callback = tf.keras.callbacks.EarlyStopping(\n",
    "    min_delta=5e-3,\n",
    "    patience=6,\n",
    "    verbose=1\n",
    ")\n",
    "\n",
    "test_model.compile(\n",
    "    optimizer=optimizer,\n",
    "    loss=loss,\n",
    "    metrics=metrics,\n",
    "    weighted_metrics=metrics,\n",
    ")\n",
    "\n",
    "sample_output = test_model.evaluate(\n",
    "    x=ds_train,\n",
    "    steps=1,\n",
    "    verbose=0)\n",
    "\n",
    "print(sample_output)"
   ]
  },
  {
   "cell_type": "code",
   "execution_count": 10,
   "id": "ca3136e2",
   "metadata": {
    "tags": []
   },
   "outputs": [
    {
     "name": "stdout",
     "output_type": "stream",
     "text": [
      "Epoch 1/20\n",
      "52974/52974 [==============================] - 308s 6ms/step - loss: 0.2623 - weighted_binary_crossentropy: 0.4500 - weighted_binary_accuracy: 0.9379 - val_loss: 0.3690 - val_weighted_binary_crossentropy: 0.2495 - val_weighted_binary_accuracy: 0.9748\n",
      "Epoch 2/20\n",
      "52974/52974 [==============================] - 309s 6ms/step - loss: 0.2267 - weighted_binary_crossentropy: 0.3940 - weighted_binary_accuracy: 0.9554 - val_loss: 0.3438 - val_weighted_binary_crossentropy: 0.2382 - val_weighted_binary_accuracy: 0.9731\n",
      "Epoch 3/20\n",
      "52974/52974 [==============================] - 307s 6ms/step - loss: 0.2151 - weighted_binary_crossentropy: 0.3845 - weighted_binary_accuracy: 0.9558 - val_loss: 0.3276 - val_weighted_binary_crossentropy: 0.2308 - val_weighted_binary_accuracy: 0.9730\n",
      "Epoch 4/20\n",
      "52974/52974 [==============================] - 300s 6ms/step - loss: 0.2070 - weighted_binary_crossentropy: 0.3735 - weighted_binary_accuracy: 0.9568 - val_loss: 0.3142 - val_weighted_binary_crossentropy: 0.2232 - val_weighted_binary_accuracy: 0.9732\n",
      "Epoch 5/20\n",
      "52974/52974 [==============================] - 298s 6ms/step - loss: 0.2124 - weighted_binary_crossentropy: 0.3742 - weighted_binary_accuracy: 0.9559 - val_loss: 0.2986 - val_weighted_binary_crossentropy: 0.2115 - val_weighted_binary_accuracy: 0.9813\n",
      "Epoch 6/20\n",
      "52974/52974 [==============================] - 302s 6ms/step - loss: 0.2227 - weighted_binary_crossentropy: 0.4031 - weighted_binary_accuracy: 0.9589 - val_loss: 0.3047 - val_weighted_binary_crossentropy: 0.2198 - val_weighted_binary_accuracy: 0.9792\n",
      "Epoch 7/20\n",
      "52974/52974 [==============================] - 301s 6ms/step - loss: 0.2186 - weighted_binary_crossentropy: 0.3956 - weighted_binary_accuracy: 0.9579 - val_loss: 0.2952 - val_weighted_binary_crossentropy: 0.2121 - val_weighted_binary_accuracy: 0.9760\n",
      "Epoch 8/20\n",
      "52974/52974 [==============================] - 303s 6ms/step - loss: 0.2166 - weighted_binary_crossentropy: 0.3888 - weighted_binary_accuracy: 0.9583 - val_loss: 0.2873 - val_weighted_binary_crossentropy: 0.2054 - val_weighted_binary_accuracy: 0.9754\n",
      "Epoch 9/20\n",
      "52974/52974 [==============================] - 301s 6ms/step - loss: 0.2148 - weighted_binary_crossentropy: 0.3908 - weighted_binary_accuracy: 0.9574 - val_loss: 0.2885 - val_weighted_binary_crossentropy: 0.2073 - val_weighted_binary_accuracy: 0.9740\n",
      "Epoch 10/20\n",
      "52974/52974 [==============================] - 312s 6ms/step - loss: 0.2146 - weighted_binary_crossentropy: 0.3987 - weighted_binary_accuracy: 0.9564 - val_loss: 0.2978 - val_weighted_binary_crossentropy: 0.2174 - val_weighted_binary_accuracy: 0.9732\n",
      "Epoch 11/20\n",
      "52974/52974 [==============================] - 305s 6ms/step - loss: 0.2132 - weighted_binary_crossentropy: 0.3937 - weighted_binary_accuracy: 0.9575 - val_loss: 0.3294 - val_weighted_binary_crossentropy: 0.2496 - val_weighted_binary_accuracy: 0.9712\n",
      "Epoch 12/20\n",
      "52974/52974 [==============================] - 308s 6ms/step - loss: 0.2135 - weighted_binary_crossentropy: 0.4224 - weighted_binary_accuracy: 0.9555 - val_loss: 0.2972 - val_weighted_binary_crossentropy: 0.2176 - val_weighted_binary_accuracy: 0.9748\n",
      "Epoch 13/20\n",
      "52974/52974 [==============================] - 305s 6ms/step - loss: 0.2133 - weighted_binary_crossentropy: 0.4066 - weighted_binary_accuracy: 0.9569 - val_loss: 0.2867 - val_weighted_binary_crossentropy: 0.2070 - val_weighted_binary_accuracy: 0.9755\n",
      "Epoch 14/20\n",
      "52974/52974 [==============================] - 311s 6ms/step - loss: 0.2136 - weighted_binary_crossentropy: 0.4019 - weighted_binary_accuracy: 0.9575 - val_loss: 0.2816 - val_weighted_binary_crossentropy: 0.2019 - val_weighted_binary_accuracy: 0.9758\n",
      "Epoch 15/20\n",
      "52974/52974 [==============================] - 322s 6ms/step - loss: 0.2138 - weighted_binary_crossentropy: 0.3985 - weighted_binary_accuracy: 0.9578 - val_loss: 0.2784 - val_weighted_binary_crossentropy: 0.1988 - val_weighted_binary_accuracy: 0.9759\n",
      "Epoch 16/20\n",
      "52974/52974 [==============================] - 315s 6ms/step - loss: 0.2128 - weighted_binary_crossentropy: 0.3956 - weighted_binary_accuracy: 0.9578 - val_loss: 0.2777 - val_weighted_binary_crossentropy: 0.1981 - val_weighted_binary_accuracy: 0.9758\n",
      "Epoch 17/20\n",
      "52974/52974 [==============================] - 313s 6ms/step - loss: 0.2133 - weighted_binary_crossentropy: 0.3920 - weighted_binary_accuracy: 0.9579 - val_loss: 0.2721 - val_weighted_binary_crossentropy: 0.1925 - val_weighted_binary_accuracy: 0.9764\n",
      "Epoch 18/20\n",
      "52974/52974 [==============================] - 311s 6ms/step - loss: 0.2127 - weighted_binary_crossentropy: 0.3903 - weighted_binary_accuracy: 0.9580 - val_loss: 0.2739 - val_weighted_binary_crossentropy: 0.1943 - val_weighted_binary_accuracy: 0.9759\n",
      "Epoch 19/20\n",
      "52974/52974 [==============================] - 300s 6ms/step - loss: 0.2128 - weighted_binary_crossentropy: 0.3926 - weighted_binary_accuracy: 0.9578 - val_loss: 0.2753 - val_weighted_binary_crossentropy: 0.1957 - val_weighted_binary_accuracy: 0.9756\n",
      "Epoch 20/20\n",
      "52974/52974 [==============================] - 302s 6ms/step - loss: 0.2134 - weighted_binary_crossentropy: 0.3958 - weighted_binary_accuracy: 0.9576 - val_loss: 0.2763 - val_weighted_binary_crossentropy: 0.1968 - val_weighted_binary_accuracy: 0.9752\n"
     ]
    }
   ],
   "source": [
    "history = test_model.fit(\n",
    "    x=ds_train,\n",
    "    epochs=20,\n",
    "    validation_data=ds_validate,\n",
    "    workers=2,\n",
    "    use_multiprocessing=True,\n",
    "    class_weight={0: 0.05,\n",
    "                  1: 0.95},\n",
    "    callbacks=[tensorboard_callback,\n",
    "               earlystop_callback,\n",
    "               ],\n",
    "    )"
   ]
  },
  {
   "cell_type": "code",
   "execution_count": null,
   "id": "d6c7bc56",
   "metadata": {},
   "outputs": [],
   "source": []
  }
 ],
 "metadata": {
  "kernelspec": {
   "display_name": "Python 3",
   "language": "python",
   "name": "python3"
  },
  "language_info": {
   "codemirror_mode": {
    "name": "ipython",
    "version": 3
   },
   "file_extension": ".py",
   "mimetype": "text/x-python",
   "name": "python",
   "nbconvert_exporter": "python",
   "pygments_lexer": "ipython3",
   "version": "3.8.8"
  },
  "toc-autonumbering": true,
  "toc-showcode": true,
  "toc-showtags": false
 },
 "nbformat": 4,
 "nbformat_minor": 5
}
