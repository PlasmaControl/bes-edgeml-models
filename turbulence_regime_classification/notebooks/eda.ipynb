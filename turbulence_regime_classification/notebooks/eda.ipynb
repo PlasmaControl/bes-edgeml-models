{
 "cells": [
  {
   "cell_type": "code",
   "execution_count": 1,
   "metadata": {
    "pycharm": {
     "name": "#%%\n"
    }
   },
   "outputs": [
    {
     "data": {
      "text/plain": "['#4878d0',\n '#ee854a',\n '#6acc64',\n '#d65f5f',\n '#956cb4',\n '#8c613c',\n '#dc7ec0',\n '#797979',\n '#d5bb67',\n '#82c6e2']"
     },
     "execution_count": 1,
     "metadata": {},
     "output_type": "execute_result"
    }
   ],
   "source": [
    "import os\n",
    "import re\n",
    "from pathlib import Path\n",
    "\n",
    "import h5py\n",
    "import numpy as np\n",
    "import pandas as pd\n",
    "import matplotlib.pyplot as plt\n",
    "import seaborn as sns\n",
    "\n",
    "sns.set_theme(style='whitegrid', palette='muted')\n",
    "colors = list(sns.color_palette('muted').as_hex())\n",
    "colors"
   ]
  },
  {
   "cell_type": "code",
   "execution_count": 2,
   "metadata": {
    "pycharm": {
     "name": "#%%\n"
    }
   },
   "outputs": [],
   "source": [
    "base_path = os.path.dirname(os.getcwd())\n",
    "base_path = Path(base_path) / 'bes-edgeml-models/turbulence_regime_classification'"
   ]
  },
  {
   "cell_type": "code",
   "execution_count": 3,
   "metadata": {
    "pycharm": {
     "name": "#%%\n"
    }
   },
   "outputs": [
    {
     "data": {
      "text/plain": "       shot  tstart (ms)  tstop (ms)  L-mode  H-mode  QH-mode  WP QH-mode  \\\n0  149992.0       2540.0      2635.0     1.0     NaN      NaN         NaN   \n1  149992.0       2638.0      3200.0     NaN     1.0      NaN         NaN   \n2  149992.0       4038.0      4125.0     1.0     NaN      NaN         NaN   \n3  149992.0       4136.0      4500.0     NaN     1.0      NaN         NaN   \n4  149993.0       1100.0      1900.0     1.0     NaN      NaN         NaN   \n5  149993.0       2540.0      2635.0     1.0     NaN      NaN         NaN   \n6  149993.0       2650.0      3400.0     NaN     1.0      NaN         NaN   \n7  149993.0       4050.0      4165.0     1.0     NaN      NaN         NaN   \n8  149993.0       4172.0      4975.0     NaN     1.0      NaN         NaN   \n9  149994.0       1340.0      1900.0     1.0     NaN      NaN         NaN   \n\n                                     Notes  \n0                                      NaN  \n1                      ELM-free, then ELMy  \n2                                      NaN  \n3                      ELM-free, then ELMy  \n4  long L-mode due to failed LH transition  \n5                                      NaN  \n6                      ELM-free, then ELMy  \n7                                      NaN  \n8                      ELM-free, then ELMy  \n9  long L-mode due to failed LH transition  ",
      "text/html": "<div>\n<style scoped>\n    .dataframe tbody tr th:only-of-type {\n        vertical-align: middle;\n    }\n\n    .dataframe tbody tr th {\n        vertical-align: top;\n    }\n\n    .dataframe thead th {\n        text-align: right;\n    }\n</style>\n<table border=\"1\" class=\"dataframe\">\n  <thead>\n    <tr style=\"text-align: right;\">\n      <th></th>\n      <th>shot</th>\n      <th>tstart (ms)</th>\n      <th>tstop (ms)</th>\n      <th>L-mode</th>\n      <th>H-mode</th>\n      <th>QH-mode</th>\n      <th>WP QH-mode</th>\n      <th>Notes</th>\n    </tr>\n  </thead>\n  <tbody>\n    <tr>\n      <th>0</th>\n      <td>149992.0</td>\n      <td>2540.0</td>\n      <td>2635.0</td>\n      <td>1.0</td>\n      <td>NaN</td>\n      <td>NaN</td>\n      <td>NaN</td>\n      <td>NaN</td>\n    </tr>\n    <tr>\n      <th>1</th>\n      <td>149992.0</td>\n      <td>2638.0</td>\n      <td>3200.0</td>\n      <td>NaN</td>\n      <td>1.0</td>\n      <td>NaN</td>\n      <td>NaN</td>\n      <td>ELM-free, then ELMy</td>\n    </tr>\n    <tr>\n      <th>2</th>\n      <td>149992.0</td>\n      <td>4038.0</td>\n      <td>4125.0</td>\n      <td>1.0</td>\n      <td>NaN</td>\n      <td>NaN</td>\n      <td>NaN</td>\n      <td>NaN</td>\n    </tr>\n    <tr>\n      <th>3</th>\n      <td>149992.0</td>\n      <td>4136.0</td>\n      <td>4500.0</td>\n      <td>NaN</td>\n      <td>1.0</td>\n      <td>NaN</td>\n      <td>NaN</td>\n      <td>ELM-free, then ELMy</td>\n    </tr>\n    <tr>\n      <th>4</th>\n      <td>149993.0</td>\n      <td>1100.0</td>\n      <td>1900.0</td>\n      <td>1.0</td>\n      <td>NaN</td>\n      <td>NaN</td>\n      <td>NaN</td>\n      <td>long L-mode due to failed LH transition</td>\n    </tr>\n    <tr>\n      <th>5</th>\n      <td>149993.0</td>\n      <td>2540.0</td>\n      <td>2635.0</td>\n      <td>1.0</td>\n      <td>NaN</td>\n      <td>NaN</td>\n      <td>NaN</td>\n      <td>NaN</td>\n    </tr>\n    <tr>\n      <th>6</th>\n      <td>149993.0</td>\n      <td>2650.0</td>\n      <td>3400.0</td>\n      <td>NaN</td>\n      <td>1.0</td>\n      <td>NaN</td>\n      <td>NaN</td>\n      <td>ELM-free, then ELMy</td>\n    </tr>\n    <tr>\n      <th>7</th>\n      <td>149993.0</td>\n      <td>4050.0</td>\n      <td>4165.0</td>\n      <td>1.0</td>\n      <td>NaN</td>\n      <td>NaN</td>\n      <td>NaN</td>\n      <td>NaN</td>\n    </tr>\n    <tr>\n      <th>8</th>\n      <td>149993.0</td>\n      <td>4172.0</td>\n      <td>4975.0</td>\n      <td>NaN</td>\n      <td>1.0</td>\n      <td>NaN</td>\n      <td>NaN</td>\n      <td>ELM-free, then ELMy</td>\n    </tr>\n    <tr>\n      <th>9</th>\n      <td>149994.0</td>\n      <td>1340.0</td>\n      <td>1900.0</td>\n      <td>1.0</td>\n      <td>NaN</td>\n      <td>NaN</td>\n      <td>NaN</td>\n      <td>long L-mode due to failed LH transition</td>\n    </tr>\n  </tbody>\n</table>\n</div>"
     },
     "execution_count": 3,
     "metadata": {},
     "output_type": "execute_result"
    }
   ],
   "source": [
    "df = pd.read_excel(f'{base_path}/confinement_database.xlsx')\n",
    "df.head(10)"
   ]
  },
  {
   "cell_type": "code",
   "execution_count": 7,
   "metadata": {
    "pycharm": {
     "name": "#%%\n"
    }
   },
   "outputs": [
    {
     "data": {
      "text/plain": "       shot  tstart (ms)  tstop (ms)  L-mode  H-mode  QH-mode  WP QH-mode  \\\n0  149992.0       2540.0      2635.0     1.0     0.0      0.0         0.0   \n1  149992.0       2638.0      3200.0     0.0     1.0      0.0         0.0   \n2  149992.0       4038.0      4125.0     1.0     0.0      0.0         0.0   \n3  149992.0       4136.0      4500.0     0.0     1.0      0.0         0.0   \n4  149993.0       1100.0      1900.0     1.0     0.0      0.0         0.0   \n5  149993.0       2540.0      2635.0     1.0     0.0      0.0         0.0   \n6  149993.0       2650.0      3400.0     0.0     1.0      0.0         0.0   \n7  149993.0       4050.0      4165.0     1.0     0.0      0.0         0.0   \n8  149993.0       4172.0      4975.0     0.0     1.0      0.0         0.0   \n9  149994.0       1340.0      1900.0     1.0     0.0      0.0         0.0   \n\n                                     Notes  \n0                                        0  \n1                      ELM-free, then ELMy  \n2                                        0  \n3                      ELM-free, then ELMy  \n4  long L-mode due to failed LH transition  \n5                                        0  \n6                      ELM-free, then ELMy  \n7                                        0  \n8                      ELM-free, then ELMy  \n9  long L-mode due to failed LH transition  ",
      "text/html": "<div>\n<style scoped>\n    .dataframe tbody tr th:only-of-type {\n        vertical-align: middle;\n    }\n\n    .dataframe tbody tr th {\n        vertical-align: top;\n    }\n\n    .dataframe thead th {\n        text-align: right;\n    }\n</style>\n<table border=\"1\" class=\"dataframe\">\n  <thead>\n    <tr style=\"text-align: right;\">\n      <th></th>\n      <th>shot</th>\n      <th>tstart (ms)</th>\n      <th>tstop (ms)</th>\n      <th>L-mode</th>\n      <th>H-mode</th>\n      <th>QH-mode</th>\n      <th>WP QH-mode</th>\n      <th>Notes</th>\n    </tr>\n  </thead>\n  <tbody>\n    <tr>\n      <th>0</th>\n      <td>149992.0</td>\n      <td>2540.0</td>\n      <td>2635.0</td>\n      <td>1.0</td>\n      <td>0.0</td>\n      <td>0.0</td>\n      <td>0.0</td>\n      <td>0</td>\n    </tr>\n    <tr>\n      <th>1</th>\n      <td>149992.0</td>\n      <td>2638.0</td>\n      <td>3200.0</td>\n      <td>0.0</td>\n      <td>1.0</td>\n      <td>0.0</td>\n      <td>0.0</td>\n      <td>ELM-free, then ELMy</td>\n    </tr>\n    <tr>\n      <th>2</th>\n      <td>149992.0</td>\n      <td>4038.0</td>\n      <td>4125.0</td>\n      <td>1.0</td>\n      <td>0.0</td>\n      <td>0.0</td>\n      <td>0.0</td>\n      <td>0</td>\n    </tr>\n    <tr>\n      <th>3</th>\n      <td>149992.0</td>\n      <td>4136.0</td>\n      <td>4500.0</td>\n      <td>0.0</td>\n      <td>1.0</td>\n      <td>0.0</td>\n      <td>0.0</td>\n      <td>ELM-free, then ELMy</td>\n    </tr>\n    <tr>\n      <th>4</th>\n      <td>149993.0</td>\n      <td>1100.0</td>\n      <td>1900.0</td>\n      <td>1.0</td>\n      <td>0.0</td>\n      <td>0.0</td>\n      <td>0.0</td>\n      <td>long L-mode due to failed LH transition</td>\n    </tr>\n    <tr>\n      <th>5</th>\n      <td>149993.0</td>\n      <td>2540.0</td>\n      <td>2635.0</td>\n      <td>1.0</td>\n      <td>0.0</td>\n      <td>0.0</td>\n      <td>0.0</td>\n      <td>0</td>\n    </tr>\n    <tr>\n      <th>6</th>\n      <td>149993.0</td>\n      <td>2650.0</td>\n      <td>3400.0</td>\n      <td>0.0</td>\n      <td>1.0</td>\n      <td>0.0</td>\n      <td>0.0</td>\n      <td>ELM-free, then ELMy</td>\n    </tr>\n    <tr>\n      <th>7</th>\n      <td>149993.0</td>\n      <td>4050.0</td>\n      <td>4165.0</td>\n      <td>1.0</td>\n      <td>0.0</td>\n      <td>0.0</td>\n      <td>0.0</td>\n      <td>0</td>\n    </tr>\n    <tr>\n      <th>8</th>\n      <td>149993.0</td>\n      <td>4172.0</td>\n      <td>4975.0</td>\n      <td>0.0</td>\n      <td>1.0</td>\n      <td>0.0</td>\n      <td>0.0</td>\n      <td>ELM-free, then ELMy</td>\n    </tr>\n    <tr>\n      <th>9</th>\n      <td>149994.0</td>\n      <td>1340.0</td>\n      <td>1900.0</td>\n      <td>1.0</td>\n      <td>0.0</td>\n      <td>0.0</td>\n      <td>0.0</td>\n      <td>long L-mode due to failed LH transition</td>\n    </tr>\n  </tbody>\n</table>\n</div>"
     },
     "execution_count": 7,
     "metadata": {},
     "output_type": "execute_result"
    }
   ],
   "source": [
    "df.fillna(value=0, inplace=True)\n",
    "df.head(10)"
   ]
  },
  {
   "cell_type": "code",
   "execution_count": 5,
   "metadata": {
    "pycharm": {
     "name": "#%%\n"
    }
   },
   "outputs": [
    {
     "name": "stdout",
     "output_type": "stream",
     "text": [
      "<class 'pandas.core.frame.DataFrame'>\n",
      "RangeIndex: 41 entries, 0 to 40\n",
      "Data columns (total 8 columns):\n",
      " #   Column       Non-Null Count  Dtype  \n",
      "---  ------       --------------  -----  \n",
      " 0   shot         41 non-null     float64\n",
      " 1   tstart (ms)  41 non-null     float64\n",
      " 2   tstop (ms)   41 non-null     float64\n",
      " 3   L-mode       41 non-null     float64\n",
      " 4   H-mode       41 non-null     float64\n",
      " 5   QH-mode      41 non-null     float64\n",
      " 6   WP QH-mode   41 non-null     float64\n",
      " 7   Notes        41 non-null     object \n",
      "dtypes: float64(7), object(1)\n",
      "memory usage: 2.7+ KB\n"
     ]
    }
   ],
   "source": [
    "df.info()"
   ]
  },
  {
   "cell_type": "markdown",
   "metadata": {
    "pycharm": {
     "name": "#%% md\n"
    }
   },
   "source": [
    "## A few things to confirm:\n",
    "- Are `tstart` and `tstop` just the indexes for both time and signals or should I shift them by 800?\n",
    "- Does it make sense to multiply `tstart` and `tstop` by 1000 to retrieve corresponding signals?"
   ]
  },
  {
   "cell_type": "code",
   "execution_count": 8,
   "metadata": {
    "pycharm": {
     "name": "#%%\n"
    }
   },
   "outputs": [
    {
     "name": "stdout",
     "output_type": "stream",
     "text": [
      "Filename: bes_signals_184826.hdf5\n",
      "Shot number: 184826\n",
      "(64, 6291456)\n",
      "(6291456, 64)\n",
      "Signals: (6291456, 64)\n",
      "Time: (6291456,)\n",
      "Start index: 1758000, stop index: 1778000\n",
      "Start index: 1808000, stop index: 1828000\n",
      "Start index: 1858000, stop index: 1878000\n",
      "Start index: 1908000, stop index: 1928000\n",
      "Start index: 1958000, stop index: 1978000\n",
      "Start index: 2008000, stop index: 2028000\n",
      "Start index: 2058000, stop index: 2078000\n",
      "Start index: 2108000, stop index: 2128000\n",
      "Start index: 2158000, stop index: 2178000\n",
      "Start index: 2208000, stop index: 2228000\n",
      "Start index: 2258000, stop index: 2278000\n",
      "Start index: 2308000, stop index: 2328000\n",
      "Start index: 2358000, stop index: 2378000\n",
      "Start index: 2408000, stop index: 2428000\n",
      "Target value counts:\n",
      "3    280000\n",
      "Name: mode, dtype: int64\n",
      "Filename: bes_signals_149995_labeled.hdf5\n",
      "Shot number: 149995\n",
      "(64, 5242880)\n",
      "(5242880, 64)\n",
      "Signals: (5242880, 64)\n",
      "Time: (5242880,)\n",
      "Start index: 500000, stop index: 1150000\n",
      "Start index: 1750000, stop index: 1940000\n",
      "Start index: 1960000, stop index: 2680000\n",
      "Start index: 3350000, stop index: 4150000\n",
      "Target value counts:\n",
      "0    1640000\n",
      "1     720000\n",
      "Name: mode, dtype: int64\n",
      "Filename: bes_signals_175490.hdf5\n",
      "Shot number: 175490\n",
      "(64, 5242880)\n",
      "(5242880, 64)\n",
      "Signals: (5242880, 64)\n",
      "Time: (5242880,)\n",
      "Start index: 1500000, stop index: 4000000\n",
      "Target value counts:\n",
      "2    2500000\n",
      "Name: mode, dtype: int64\n",
      "Filename: bes_signals_149992_labeled.hdf5\n",
      "Shot number: 149992\n"
     ]
    },
    {
     "ename": "KeyboardInterrupt",
     "evalue": "",
     "output_type": "error",
     "traceback": [
      "\u001B[0;31m---------------------------------------------------------------------------\u001B[0m",
      "\u001B[0;31mKeyboardInterrupt\u001B[0m                         Traceback (most recent call last)",
      "Input \u001B[0;32mIn [8]\u001B[0m, in \u001B[0;36m<cell line: 2>\u001B[0;34m()\u001B[0m\n\u001B[1;32m      6\u001B[0m shot_num \u001B[38;5;241m=\u001B[39m re\u001B[38;5;241m.\u001B[39mfindall(\u001B[38;5;124mr\u001B[39m\u001B[38;5;124m'\u001B[39m\u001B[38;5;124m\\\u001B[39m\u001B[38;5;124md+\u001B[39m\u001B[38;5;124m'\u001B[39m, f)[\u001B[38;5;241m0\u001B[39m]\n\u001B[1;32m      7\u001B[0m \u001B[38;5;28mprint\u001B[39m(\u001B[38;5;124mf\u001B[39m\u001B[38;5;124m'\u001B[39m\u001B[38;5;124mShot number: \u001B[39m\u001B[38;5;132;01m{\u001B[39;00mshot_num\u001B[38;5;132;01m}\u001B[39;00m\u001B[38;5;124m'\u001B[39m)\n\u001B[0;32m----> 8\u001B[0m signals \u001B[38;5;241m=\u001B[39m \u001B[43mnp\u001B[49m\u001B[38;5;241;43m.\u001B[39;49m\u001B[43marray\u001B[49m\u001B[43m(\u001B[49m\u001B[43mshot_data\u001B[49m\u001B[43m[\u001B[49m\u001B[38;5;124;43m'\u001B[39;49m\u001B[38;5;124;43msignals\u001B[39;49m\u001B[38;5;124;43m'\u001B[39;49m\u001B[43m]\u001B[49m\u001B[43m)\u001B[49m\n\u001B[1;32m      9\u001B[0m \u001B[38;5;28mprint\u001B[39m(signals\u001B[38;5;241m.\u001B[39mshape)\n\u001B[1;32m     10\u001B[0m signals \u001B[38;5;241m=\u001B[39m signals\u001B[38;5;241m.\u001B[39mtranspose()\n",
      "File \u001B[0;32mh5py/_objects.pyx:54\u001B[0m, in \u001B[0;36mh5py._objects.with_phil.wrapper\u001B[0;34m()\u001B[0m\n",
      "File \u001B[0;32mh5py/_objects.pyx:55\u001B[0m, in \u001B[0;36mh5py._objects.with_phil.wrapper\u001B[0;34m()\u001B[0m\n",
      "File \u001B[0;32m~/PycharmProjects/bes-edgeml-models/venv/lib/python3.10/site-packages/h5py/_hl/dataset.py:1015\u001B[0m, in \u001B[0;36mDataset.__array__\u001B[0;34m(self, dtype)\u001B[0m\n\u001B[1;32m   1012\u001B[0m \u001B[38;5;28;01mif\u001B[39;00m numpy\u001B[38;5;241m.\u001B[39mproduct(\u001B[38;5;28mself\u001B[39m\u001B[38;5;241m.\u001B[39mshape, dtype\u001B[38;5;241m=\u001B[39mnumpy\u001B[38;5;241m.\u001B[39mulonglong) \u001B[38;5;241m==\u001B[39m \u001B[38;5;241m0\u001B[39m:\n\u001B[1;32m   1013\u001B[0m     \u001B[38;5;28;01mreturn\u001B[39;00m arr\n\u001B[0;32m-> 1015\u001B[0m \u001B[38;5;28;43mself\u001B[39;49m\u001B[38;5;241;43m.\u001B[39;49m\u001B[43mread_direct\u001B[49m\u001B[43m(\u001B[49m\u001B[43marr\u001B[49m\u001B[43m)\u001B[49m\n\u001B[1;32m   1016\u001B[0m \u001B[38;5;28;01mreturn\u001B[39;00m arr\n",
      "File \u001B[0;32m~/PycharmProjects/bes-edgeml-models/venv/lib/python3.10/site-packages/h5py/_hl/dataset.py:976\u001B[0m, in \u001B[0;36mDataset.read_direct\u001B[0;34m(self, dest, source_sel, dest_sel)\u001B[0m\n\u001B[1;32m    973\u001B[0m     dest_sel \u001B[38;5;241m=\u001B[39m sel\u001B[38;5;241m.\u001B[39mselect(dest\u001B[38;5;241m.\u001B[39mshape, dest_sel)\n\u001B[1;32m    975\u001B[0m \u001B[38;5;28;01mfor\u001B[39;00m mspace \u001B[38;5;129;01min\u001B[39;00m dest_sel\u001B[38;5;241m.\u001B[39mbroadcast(source_sel\u001B[38;5;241m.\u001B[39marray_shape):\n\u001B[0;32m--> 976\u001B[0m     \u001B[38;5;28;43mself\u001B[39;49m\u001B[38;5;241;43m.\u001B[39;49m\u001B[43mid\u001B[49m\u001B[38;5;241;43m.\u001B[39;49m\u001B[43mread\u001B[49m\u001B[43m(\u001B[49m\u001B[43mmspace\u001B[49m\u001B[43m,\u001B[49m\u001B[43m \u001B[49m\u001B[43mfspace\u001B[49m\u001B[43m,\u001B[49m\u001B[43m \u001B[49m\u001B[43mdest\u001B[49m\u001B[43m,\u001B[49m\u001B[43m \u001B[49m\u001B[43mdxpl\u001B[49m\u001B[38;5;241;43m=\u001B[39;49m\u001B[38;5;28;43mself\u001B[39;49m\u001B[38;5;241;43m.\u001B[39;49m\u001B[43m_dxpl\u001B[49m\u001B[43m)\u001B[49m\n",
      "\u001B[0;31mKeyboardInterrupt\u001B[0m: "
     ]
    }
   ],
   "source": [
    "data = []\n",
    "for f in os.listdir(f'{base_path}/data'):\n",
    "    print(f'Filename: {f}')\n",
    "    try:\n",
    "        shot_data = h5py.File(f'{base_path}/data/{f}')\n",
    "        shot_num = re.findall(r'\\d+', f)[0]\n",
    "        print(f'Shot number: {shot_num}')\n",
    "        signals = np.array(shot_data['signals'])\n",
    "        print(signals.shape)\n",
    "        signals = signals.transpose()\n",
    "        print(signals.shape)\n",
    "        time = np.array(shot_data['time'])\n",
    "        print(f'Signals: {signals.shape}')\n",
    "        print(f'Time: {time.shape}')\n",
    "        shot_df = df[df['shot'] == float(shot_num)]\n",
    "        label = []\n",
    "        signal = []\n",
    "        for i, row in shot_df.iterrows():\n",
    "            tstart = row['tstart (ms)']\n",
    "            tstop = row['tstop (ms)']\n",
    "            start = np.where(time == tstart)[0][0]\n",
    "            stop = np.where(time == tstop)[0][0]\n",
    "            print(f'Start index: {start}, stop index: {stop}')\n",
    "            tmode_signal = signals[start:stop]\n",
    "            signal_df = pd.DataFrame(\n",
    "                {f'Ch_{j+1}':tmode_signal[:,j] for j in range(tmode_signal.shape[1])},\n",
    "                columns=[f'Ch_{j+1}' for j in range(tmode_signal.shape[1])]\n",
    "            )\n",
    "            label_vec = row[['L-mode', 'H-mode', 'QH-mode', 'WP QH-mode']].to_numpy(dtype=int)\n",
    "            signal_df['mode'] = np.argmax(label_vec)\n",
    "            signal.append(signal_df)\n",
    "        # signal_df['mode'] = label\n",
    "        signal = pd.concat(signal, axis=0)\n",
    "        signal['shot_num'] = shot_num\n",
    "        print('Target value counts:')\n",
    "        print(signal['mode'].value_counts())\n",
    "        data.append(signal)\n",
    "    except FileNotFoundError:\n",
    "        'HDF5 file not found.'\n",
    "data = pd.concat(data, axis=0)\n",
    "data.head()"
   ]
  },
  {
   "cell_type": "code",
   "execution_count": 7,
   "metadata": {
    "pycharm": {
     "name": "#%%\n"
    }
   },
   "outputs": [],
   "source": [
    "def get_start_stop(tstart:float, tstop:float, time:np.ndarray):\n",
    "    return np.where(time == tstart)[0][0], np.where(time == tstop)[0][0]"
   ]
  },
  {
   "cell_type": "code",
   "execution_count": 8,
   "metadata": {
    "pycharm": {
     "name": "#%%\n"
    }
   },
   "outputs": [
    {
     "data": {
      "image/png": "[encoded data removed]",
      "text/plain": [
       "<Figure size 720x360 with 1 Axes>"
      ]
     },
     "metadata": {},
     "output_type": "display_data"
    }
   ],
   "source": [
    "shot_number = 149993\n",
    "f = h5py.File(f'{base_path}/data/bes_signals_{shot_number}.hdf5')\n",
    "ch_1_signal = np.array(f['signals']).transpose()[:, 0]\n",
    "time = np.array(f['time'])\n",
    "\n",
    "# l-mode\n",
    "tstart_l1 = 1100.0\n",
    "tstop_l1 = 1900.0\n",
    "start_l1, stop_l1 = get_start_stop(tstart_l1, tstop_l1, time)\n",
    "\n",
    "# l-mode\n",
    "tstart_l2 = 2540.0\n",
    "tstop_l2 = 2635.0\n",
    "start_l2, stop_l2 = get_start_stop(tstart_l2, tstop_l2, time)\n",
    "\n",
    "# h-mode\n",
    "tstart_h1 = 2650.0\n",
    "tstop_h1 = 3400.0\n",
    "start_h1, stop_h1 = get_start_stop(tstart_h1, tstop_h1, time)\n",
    "\n",
    "# l-mode\n",
    "tstart_l3 = 4050.0\n",
    "tstop_l3 = 4165.0\n",
    "start_l3, stop_l3 = get_start_stop(tstart_l3, tstop_l3, time)\n",
    "\n",
    "# h-mode\n",
    "tstart_h2 = 4172.0\n",
    "tstop_h2 = 4975.0\n",
    "start_h2, stop_h2 = get_start_stop(tstart_h2, tstop_h2, time)\n",
    "\n",
    "f.close()\n",
    "\n",
    "fig, ax = plt.subplots(figsize=(10, 5))\n",
    "ax.plot(range(len(ch_1_signal)), ch_1_signal, color=colors[0], label='Ch-1', alpha=0.5)\n",
    "ax.plot(range(start_l1, stop_l1), ch_1_signal[start_l1:stop_l1], color=colors[1], label='L-mode', alpha=0.65)\n",
    "ax.plot(range(start_h1, stop_h1), ch_1_signal[start_h1:stop_h1], color=colors[2], label='H-mode', alpha=0.65)\n",
    "ax.plot(range(start_l2, stop_l2), ch_1_signal[start_l2:stop_l2], color=colors[1], alpha=0.65)\n",
    "ax.plot(range(start_h2, stop_h2), ch_1_signal[start_h2:stop_h2], color=colors[2], alpha=0.65)\n",
    "ax.plot(range(start_l3, stop_l3), ch_1_signal[start_l3:stop_l3], color=colors[1], alpha=0.65)\n",
    "ax.legend(frameon=False)\n",
    "ax.set_xlabel('Time')\n",
    "ax.set_title(f'Shot number:{shot_number}')\n",
    "plt.tight_layout()\n",
    "plt.show()"
   ]
  },
  {
   "cell_type": "code",
   "execution_count": 9,
   "metadata": {
    "pycharm": {
     "name": "#%%\n"
    }
   },
   "outputs": [
    {
     "name": "stdout",
     "output_type": "stream",
     "text": [
      "<class 'pandas.core.frame.DataFrame'>\n",
      "Int64Index: 5781000 entries, 0 to 363999\n",
      "Data columns (total 66 columns):\n",
      " #   Column    Dtype  \n",
      "---  ------    -----  \n",
      " 0   Ch_1      float64\n",
      " 1   Ch_2      float64\n",
      " 2   Ch_3      float64\n",
      " 3   Ch_4      float64\n",
      " 4   Ch_5      float64\n",
      " 5   Ch_6      float64\n",
      " 6   Ch_7      float64\n",
      " 7   Ch_8      float64\n",
      " 8   Ch_9      float64\n",
      " 9   Ch_10     float64\n",
      " 10  Ch_11     float64\n",
      " 11  Ch_12     float64\n",
      " 12  Ch_13     float64\n",
      " 13  Ch_14     float64\n",
      " 14  Ch_15     float64\n",
      " 15  Ch_16     float64\n",
      " 16  Ch_17     float64\n",
      " 17  Ch_18     float64\n",
      " 18  Ch_19     float64\n",
      " 19  Ch_20     float64\n",
      " 20  Ch_21     float64\n",
      " 21  Ch_22     float64\n",
      " 22  Ch_23     float64\n",
      " 23  Ch_24     float64\n",
      " 24  Ch_25     float64\n",
      " 25  Ch_26     float64\n",
      " 26  Ch_27     float64\n",
      " 27  Ch_28     float64\n",
      " 28  Ch_29     float64\n",
      " 29  Ch_30     float64\n",
      " 30  Ch_31     float64\n",
      " 31  Ch_32     float64\n",
      " 32  Ch_33     float64\n",
      " 33  Ch_34     float64\n",
      " 34  Ch_35     float64\n",
      " 35  Ch_36     float64\n",
      " 36  Ch_37     float64\n",
      " 37  Ch_38     float64\n",
      " 38  Ch_39     float64\n",
      " 39  Ch_40     float64\n",
      " 40  Ch_41     float64\n",
      " 41  Ch_42     float64\n",
      " 42  Ch_43     float64\n",
      " 43  Ch_44     float64\n",
      " 44  Ch_45     float64\n",
      " 45  Ch_46     float64\n",
      " 46  Ch_47     float64\n",
      " 47  Ch_48     float64\n",
      " 48  Ch_49     float64\n",
      " 49  Ch_50     float64\n",
      " 50  Ch_51     float64\n",
      " 51  Ch_52     float64\n",
      " 52  Ch_53     float64\n",
      " 53  Ch_54     float64\n",
      " 54  Ch_55     float64\n",
      " 55  Ch_56     float64\n",
      " 56  Ch_57     float64\n",
      " 57  Ch_58     float64\n",
      " 58  Ch_59     float64\n",
      " 59  Ch_60     float64\n",
      " 60  Ch_61     float64\n",
      " 61  Ch_62     float64\n",
      " 62  Ch_63     float64\n",
      " 63  Ch_64     float64\n",
      " 64  mode      int64  \n",
      " 65  shot_num  object \n",
      "dtypes: float64(64), int64(1), object(1)\n",
      "memory usage: 2.9+ GB\n"
     ]
    }
   ],
   "source": [
    "data.info()"
   ]
  },
  {
   "cell_type": "code",
   "execution_count": 10,
   "metadata": {
    "pycharm": {
     "name": "#%%\n"
    }
   },
   "outputs": [
    {
     "data": {
      "image/png": "[encoded data removed]",
      "text/plain": [
       "<Figure size 432x288 with 1 Axes>"
      ]
     },
     "metadata": {},
     "output_type": "display_data"
    }
   ],
   "source": [
    "sns.countplot(x='shot_num', data=data, fc='lightgray', edgecolor='k')\n",
    "plt.show()"
   ]
  },
  {
   "cell_type": "code",
   "execution_count": 11,
   "metadata": {
    "pycharm": {
     "name": "#%%\n"
    }
   },
   "outputs": [
    {
     "name": "stdout",
     "output_type": "stream",
     "text": [
      "Shots: ['149994', '149993', '149992']\n",
      "Processing shot number: 149994\n",
      "Processing shot number: 149993\n",
      "Processing shot number: 149992\n"
     ]
    }
   ],
   "source": [
    "import h5py\n",
    "turb_modes = {0:'L_mode', 1:'H_mode', 2:'QH_mode', 3:'WP_QH_mode'}\n",
    "features = [col for col in data.columns if col not in ['shot_num', 'mode']]\n",
    "shot_nums = data.shot_num.unique().tolist()\n",
    "print(f'Shots: {shot_nums}')\n",
    "with h5py.File(f'{base_path}/processed_data/test_datafile.hdf5', 'w') as f:\n",
    "    for shot in shot_nums:\n",
    "        print(f'Processing shot number: {shot}')\n",
    "        grp = f.create_group(str(shot))\n",
    "        df = data[data['shot_num'] == shot]\n",
    "        for mode in df['mode'].unique().tolist():\n",
    "            turb_data = df[df['mode'] == mode][features].values\n",
    "            dset = grp.create_dataset(turb_modes[mode], data=turb_data, dtype=np.float32)"
   ]
  },
  {
   "cell_type": "code",
   "execution_count": 12,
   "metadata": {
    "pycharm": {
     "name": "#%%\n"
    }
   },
   "outputs": [
    {
     "name": "stdout",
     "output_type": "stream",
     "text": [
      "Shot number: 149992\n",
      "Mode: H_mode\n",
      "(926000, 64)\n",
      "Mode: L_mode\n",
      "(182000, 64)\n",
      "Shot number: 149993\n",
      "Mode: H_mode\n",
      "(1553000, 64)\n",
      "Mode: L_mode\n",
      "(1010000, 64)\n",
      "Shot number: 149994\n",
      "Mode: L_mode\n",
      "(2110000, 64)\n"
     ]
    }
   ],
   "source": [
    "with h5py.File(f'{base_path}/processed_data/test_datafile.hdf5', 'r') as f:\n",
    "    for k in f.keys():\n",
    "        print(f'Shot number: {k}')\n",
    "        for k1 in f[k].keys():\n",
    "            print(f'Mode: {k1}')\n",
    "            print(np.array(f[k][k1]).shape)"
   ]
  },
  {
   "cell_type": "code",
   "execution_count": null,
   "metadata": {
    "pycharm": {
     "name": "#%%\n"
    }
   },
   "outputs": [],
   "source": []
  }
 ],
 "metadata": {
  "interpreter": {
   "hash": "58d40277d0f592923549ebc60738af7a07e31c69ccc38dc0a8c681189308b517"
  },
  "kernelspec": {
   "display_name": "Python 3.8.11 64-bit ('torch': conda)",
   "name": "python3"
  },
  "language_info": {
   "codemirror_mode": {
    "name": "ipython",
    "version": 3
   },
   "file_extension": ".py",
   "mimetype": "text/x-python",
   "name": "python",
   "nbconvert_exporter": "python",
   "pygments_lexer": "ipython3",
   "version": "3.8.11"
  },
  "orig_nbformat": 4
 },
 "nbformat": 4,
 "nbformat_minor": 2
}