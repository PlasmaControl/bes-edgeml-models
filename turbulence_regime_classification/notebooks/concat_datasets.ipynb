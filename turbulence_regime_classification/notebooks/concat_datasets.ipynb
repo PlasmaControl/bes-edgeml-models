{
 "cells": [
  {
   "cell_type": "code",
   "execution_count": 6,
   "metadata": {
    "collapsed": true,
    "pycharm": {
     "name": "#%%\n"
    }
   },
   "outputs": [],
   "source": [
    "import pandas as pd\n",
    "import numpy as np\n",
    "import h5py\n",
    "import re\n",
    "from pathlib import Path"
   ]
  },
  {
   "cell_type": "code",
   "execution_count": 7,
   "outputs": [
    {
     "data": {
      "text/plain": "        shot  tstart (ms)  tstop (ms)  L-mode  H-mode  QH-mode  WP QH-mode  \\\n0   149992.0       2540.0      2635.0     1.0     0.0      0.0         0.0   \n1   149992.0       2638.0      3200.0     0.0     1.0      0.0         0.0   \n2   149992.0       4038.0      4125.0     1.0     0.0      0.0         0.0   \n3   149992.0       4136.0      4500.0     0.0     1.0      0.0         0.0   \n4   149993.0       1100.0      1900.0     1.0     0.0      0.0         0.0   \n5   149993.0       2540.0      2635.0     1.0     0.0      0.0         0.0   \n6   149993.0       2650.0      3400.0     0.0     1.0      0.0         0.0   \n7   149993.0       4050.0      4165.0     1.0     0.0      0.0         0.0   \n8   149993.0       4172.0      4975.0     0.0     1.0      0.0         0.0   \n9   149994.0       1340.0      1900.0     1.0     0.0      0.0         0.0   \n10  149994.0       2650.0      3400.0     1.0     0.0      0.0         0.0   \n11  149994.0       4150.0      4950.0     1.0     0.0      0.0         0.0   \n12  149995.0       1300.0      1950.0     1.0     0.0      0.0         0.0   \n13  149995.0       2550.0      2740.0     1.0     0.0      0.0         0.0   \n14  149995.0       2760.0      3480.0     0.0     1.0      0.0         0.0   \n15  149995.0       4150.0      4950.0     1.0     0.0      0.0         0.0   \n16  175490.0       2100.0      4600.0     0.0     0.0      1.0         0.0   \n17  184801.0       1675.0      3000.0     0.0     0.0      1.0         0.0   \n18  184813.0       3250.0      4900.0     0.0     0.0      1.0         0.0   \n19  184815.0       2675.0      4900.0     0.0     0.0      1.0         0.0   \n20  184826.0       1958.0      1978.0     0.0     0.0      0.0         1.0   \n21  184826.0       2008.0      2028.0     0.0     0.0      0.0         1.0   \n22  184826.0       2058.0      2078.0     0.0     0.0      0.0         1.0   \n23  184826.0       2108.0      2128.0     0.0     0.0      0.0         1.0   \n24  184826.0       2158.0      2178.0     0.0     0.0      0.0         1.0   \n25  184826.0       2208.0      2228.0     0.0     0.0      0.0         1.0   \n26  184826.0       2258.0      2278.0     0.0     0.0      0.0         1.0   \n27  184826.0       2308.0      2328.0     0.0     0.0      0.0         1.0   \n28  184826.0       2358.0      2378.0     0.0     0.0      0.0         1.0   \n29  184826.0       2408.0      2428.0     0.0     0.0      0.0         1.0   \n30  184826.0       2458.0      2478.0     0.0     0.0      0.0         1.0   \n31  184826.0       2508.0      2528.0     0.0     0.0      0.0         1.0   \n32  184826.0       2558.0      2578.0     0.0     0.0      0.0         1.0   \n33  184826.0       2608.0      2628.0     0.0     0.0      0.0         1.0   \n34  184829.0       2210.0      2230.0     0.0     0.0      0.0         1.0   \n35  184829.0       2260.0      2280.0     0.0     0.0      0.0         1.0   \n36  184829.0       2310.0      2330.0     0.0     0.0      0.0         1.0   \n37  184829.0       2360.0      2380.0     0.0     0.0      0.0         1.0   \n38  184829.0       2410.0      2430.0     0.0     0.0      0.0         1.0   \n39  184829.0       2460.0      2480.0     0.0     0.0      0.0         1.0   \n40  184829.0       2510.0      2530.0     0.0     0.0      0.0         1.0   \n\n                                      Notes  \n0                                         0  \n1                       ELM-free, then ELMy  \n2                                         0  \n3                       ELM-free, then ELMy  \n4   long L-mode due to failed LH transition  \n5                                         0  \n6                       ELM-free, then ELMy  \n7                                         0  \n8                       ELM-free, then ELMy  \n9   long L-mode due to failed LH transition  \n10  long L-mode due to failed LH transition  \n11  long L-mode due to failed LH transition  \n12  long L-mode due to failed LH transition  \n13                                        0  \n14                      ELM-free, then ELMy  \n15  long L-mode due to failed LH transition  \n16                                        0  \n17                                        0  \n18                                        0  \n19                                        0  \n20                         50 ms beam blips  \n21                         50 ms beam blips  \n22                         50 ms beam blips  \n23                         50 ms beam blips  \n24                         50 ms beam blips  \n25                         50 ms beam blips  \n26                         50 ms beam blips  \n27                         50 ms beam blips  \n28                         50 ms beam blips  \n29                         50 ms beam blips  \n30                         50 ms beam blips  \n31                         50 ms beam blips  \n32                         50 ms beam blips  \n33                         50 ms beam blips  \n34                         50 ms beam blips  \n35                         50 ms beam blips  \n36                         50 ms beam blips  \n37                         50 ms beam blips  \n38                         50 ms beam blips  \n39                         50 ms beam blips  \n40                         50 ms beam blips  ",
      "text/html": "<div>\n<style scoped>\n    .dataframe tbody tr th:only-of-type {\n        vertical-align: middle;\n    }\n\n    .dataframe tbody tr th {\n        vertical-align: top;\n    }\n\n    .dataframe thead th {\n        text-align: right;\n    }\n</style>\n<table border=\"1\" class=\"dataframe\">\n  <thead>\n    <tr style=\"text-align: right;\">\n      <th></th>\n      <th>shot</th>\n      <th>tstart (ms)</th>\n      <th>tstop (ms)</th>\n      <th>L-mode</th>\n      <th>H-mode</th>\n      <th>QH-mode</th>\n      <th>WP QH-mode</th>\n      <th>Notes</th>\n    </tr>\n  </thead>\n  <tbody>\n    <tr>\n      <th>0</th>\n      <td>149992.0</td>\n      <td>2540.0</td>\n      <td>2635.0</td>\n      <td>1.0</td>\n      <td>0.0</td>\n      <td>0.0</td>\n      <td>0.0</td>\n      <td>0</td>\n    </tr>\n    <tr>\n      <th>1</th>\n      <td>149992.0</td>\n      <td>2638.0</td>\n      <td>3200.0</td>\n      <td>0.0</td>\n      <td>1.0</td>\n      <td>0.0</td>\n      <td>0.0</td>\n      <td>ELM-free, then ELMy</td>\n    </tr>\n    <tr>\n      <th>2</th>\n      <td>149992.0</td>\n      <td>4038.0</td>\n      <td>4125.0</td>\n      <td>1.0</td>\n      <td>0.0</td>\n      <td>0.0</td>\n      <td>0.0</td>\n      <td>0</td>\n    </tr>\n    <tr>\n      <th>3</th>\n      <td>149992.0</td>\n      <td>4136.0</td>\n      <td>4500.0</td>\n      <td>0.0</td>\n      <td>1.0</td>\n      <td>0.0</td>\n      <td>0.0</td>\n      <td>ELM-free, then ELMy</td>\n    </tr>\n    <tr>\n      <th>4</th>\n      <td>149993.0</td>\n      <td>1100.0</td>\n      <td>1900.0</td>\n      <td>1.0</td>\n      <td>0.0</td>\n      <td>0.0</td>\n      <td>0.0</td>\n      <td>long L-mode due to failed LH transition</td>\n    </tr>\n    <tr>\n      <th>5</th>\n      <td>149993.0</td>\n      <td>2540.0</td>\n      <td>2635.0</td>\n      <td>1.0</td>\n      <td>0.0</td>\n      <td>0.0</td>\n      <td>0.0</td>\n      <td>0</td>\n    </tr>\n    <tr>\n      <th>6</th>\n      <td>149993.0</td>\n      <td>2650.0</td>\n      <td>3400.0</td>\n      <td>0.0</td>\n      <td>1.0</td>\n      <td>0.0</td>\n      <td>0.0</td>\n      <td>ELM-free, then ELMy</td>\n    </tr>\n    <tr>\n      <th>7</th>\n      <td>149993.0</td>\n      <td>4050.0</td>\n      <td>4165.0</td>\n      <td>1.0</td>\n      <td>0.0</td>\n      <td>0.0</td>\n      <td>0.0</td>\n      <td>0</td>\n    </tr>\n    <tr>\n      <th>8</th>\n      <td>149993.0</td>\n      <td>4172.0</td>\n      <td>4975.0</td>\n      <td>0.0</td>\n      <td>1.0</td>\n      <td>0.0</td>\n      <td>0.0</td>\n      <td>ELM-free, then ELMy</td>\n    </tr>\n    <tr>\n      <th>9</th>\n      <td>149994.0</td>\n      <td>1340.0</td>\n      <td>1900.0</td>\n      <td>1.0</td>\n      <td>0.0</td>\n      <td>0.0</td>\n      <td>0.0</td>\n      <td>long L-mode due to failed LH transition</td>\n    </tr>\n    <tr>\n      <th>10</th>\n      <td>149994.0</td>\n      <td>2650.0</td>\n      <td>3400.0</td>\n      <td>1.0</td>\n      <td>0.0</td>\n      <td>0.0</td>\n      <td>0.0</td>\n      <td>long L-mode due to failed LH transition</td>\n    </tr>\n    <tr>\n      <th>11</th>\n      <td>149994.0</td>\n      <td>4150.0</td>\n      <td>4950.0</td>\n      <td>1.0</td>\n      <td>0.0</td>\n      <td>0.0</td>\n      <td>0.0</td>\n      <td>long L-mode due to failed LH transition</td>\n    </tr>\n    <tr>\n      <th>12</th>\n      <td>149995.0</td>\n      <td>1300.0</td>\n      <td>1950.0</td>\n      <td>1.0</td>\n      <td>0.0</td>\n      <td>0.0</td>\n      <td>0.0</td>\n      <td>long L-mode due to failed LH transition</td>\n    </tr>\n    <tr>\n      <th>13</th>\n      <td>149995.0</td>\n      <td>2550.0</td>\n      <td>2740.0</td>\n      <td>1.0</td>\n      <td>0.0</td>\n      <td>0.0</td>\n      <td>0.0</td>\n      <td>0</td>\n    </tr>\n    <tr>\n      <th>14</th>\n      <td>149995.0</td>\n      <td>2760.0</td>\n      <td>3480.0</td>\n      <td>0.0</td>\n      <td>1.0</td>\n      <td>0.0</td>\n      <td>0.0</td>\n      <td>ELM-free, then ELMy</td>\n    </tr>\n    <tr>\n      <th>15</th>\n      <td>149995.0</td>\n      <td>4150.0</td>\n      <td>4950.0</td>\n      <td>1.0</td>\n      <td>0.0</td>\n      <td>0.0</td>\n      <td>0.0</td>\n      <td>long L-mode due to failed LH transition</td>\n    </tr>\n    <tr>\n      <th>16</th>\n      <td>175490.0</td>\n      <td>2100.0</td>\n      <td>4600.0</td>\n      <td>0.0</td>\n      <td>0.0</td>\n      <td>1.0</td>\n      <td>0.0</td>\n      <td>0</td>\n    </tr>\n    <tr>\n      <th>17</th>\n      <td>184801.0</td>\n      <td>1675.0</td>\n      <td>3000.0</td>\n      <td>0.0</td>\n      <td>0.0</td>\n      <td>1.0</td>\n      <td>0.0</td>\n      <td>0</td>\n    </tr>\n    <tr>\n      <th>18</th>\n      <td>184813.0</td>\n      <td>3250.0</td>\n      <td>4900.0</td>\n      <td>0.0</td>\n      <td>0.0</td>\n      <td>1.0</td>\n      <td>0.0</td>\n      <td>0</td>\n    </tr>\n    <tr>\n      <th>19</th>\n      <td>184815.0</td>\n      <td>2675.0</td>\n      <td>4900.0</td>\n      <td>0.0</td>\n      <td>0.0</td>\n      <td>1.0</td>\n      <td>0.0</td>\n      <td>0</td>\n    </tr>\n    <tr>\n      <th>20</th>\n      <td>184826.0</td>\n      <td>1958.0</td>\n      <td>1978.0</td>\n      <td>0.0</td>\n      <td>0.0</td>\n      <td>0.0</td>\n      <td>1.0</td>\n      <td>50 ms beam blips</td>\n    </tr>\n    <tr>\n      <th>21</th>\n      <td>184826.0</td>\n      <td>2008.0</td>\n      <td>2028.0</td>\n      <td>0.0</td>\n      <td>0.0</td>\n      <td>0.0</td>\n      <td>1.0</td>\n      <td>50 ms beam blips</td>\n    </tr>\n    <tr>\n      <th>22</th>\n      <td>184826.0</td>\n      <td>2058.0</td>\n      <td>2078.0</td>\n      <td>0.0</td>\n      <td>0.0</td>\n      <td>0.0</td>\n      <td>1.0</td>\n      <td>50 ms beam blips</td>\n    </tr>\n    <tr>\n      <th>23</th>\n      <td>184826.0</td>\n      <td>2108.0</td>\n      <td>2128.0</td>\n      <td>0.0</td>\n      <td>0.0</td>\n      <td>0.0</td>\n      <td>1.0</td>\n      <td>50 ms beam blips</td>\n    </tr>\n    <tr>\n      <th>24</th>\n      <td>184826.0</td>\n      <td>2158.0</td>\n      <td>2178.0</td>\n      <td>0.0</td>\n      <td>0.0</td>\n      <td>0.0</td>\n      <td>1.0</td>\n      <td>50 ms beam blips</td>\n    </tr>\n    <tr>\n      <th>25</th>\n      <td>184826.0</td>\n      <td>2208.0</td>\n      <td>2228.0</td>\n      <td>0.0</td>\n      <td>0.0</td>\n      <td>0.0</td>\n      <td>1.0</td>\n      <td>50 ms beam blips</td>\n    </tr>\n    <tr>\n      <th>26</th>\n      <td>184826.0</td>\n      <td>2258.0</td>\n      <td>2278.0</td>\n      <td>0.0</td>\n      <td>0.0</td>\n      <td>0.0</td>\n      <td>1.0</td>\n      <td>50 ms beam blips</td>\n    </tr>\n    <tr>\n      <th>27</th>\n      <td>184826.0</td>\n      <td>2308.0</td>\n      <td>2328.0</td>\n      <td>0.0</td>\n      <td>0.0</td>\n      <td>0.0</td>\n      <td>1.0</td>\n      <td>50 ms beam blips</td>\n    </tr>\n    <tr>\n      <th>28</th>\n      <td>184826.0</td>\n      <td>2358.0</td>\n      <td>2378.0</td>\n      <td>0.0</td>\n      <td>0.0</td>\n      <td>0.0</td>\n      <td>1.0</td>\n      <td>50 ms beam blips</td>\n    </tr>\n    <tr>\n      <th>29</th>\n      <td>184826.0</td>\n      <td>2408.0</td>\n      <td>2428.0</td>\n      <td>0.0</td>\n      <td>0.0</td>\n      <td>0.0</td>\n      <td>1.0</td>\n      <td>50 ms beam blips</td>\n    </tr>\n    <tr>\n      <th>30</th>\n      <td>184826.0</td>\n      <td>2458.0</td>\n      <td>2478.0</td>\n      <td>0.0</td>\n      <td>0.0</td>\n      <td>0.0</td>\n      <td>1.0</td>\n      <td>50 ms beam blips</td>\n    </tr>\n    <tr>\n      <th>31</th>\n      <td>184826.0</td>\n      <td>2508.0</td>\n      <td>2528.0</td>\n      <td>0.0</td>\n      <td>0.0</td>\n      <td>0.0</td>\n      <td>1.0</td>\n      <td>50 ms beam blips</td>\n    </tr>\n    <tr>\n      <th>32</th>\n      <td>184826.0</td>\n      <td>2558.0</td>\n      <td>2578.0</td>\n      <td>0.0</td>\n      <td>0.0</td>\n      <td>0.0</td>\n      <td>1.0</td>\n      <td>50 ms beam blips</td>\n    </tr>\n    <tr>\n      <th>33</th>\n      <td>184826.0</td>\n      <td>2608.0</td>\n      <td>2628.0</td>\n      <td>0.0</td>\n      <td>0.0</td>\n      <td>0.0</td>\n      <td>1.0</td>\n      <td>50 ms beam blips</td>\n    </tr>\n    <tr>\n      <th>34</th>\n      <td>184829.0</td>\n      <td>2210.0</td>\n      <td>2230.0</td>\n      <td>0.0</td>\n      <td>0.0</td>\n      <td>0.0</td>\n      <td>1.0</td>\n      <td>50 ms beam blips</td>\n    </tr>\n    <tr>\n      <th>35</th>\n      <td>184829.0</td>\n      <td>2260.0</td>\n      <td>2280.0</td>\n      <td>0.0</td>\n      <td>0.0</td>\n      <td>0.0</td>\n      <td>1.0</td>\n      <td>50 ms beam blips</td>\n    </tr>\n    <tr>\n      <th>36</th>\n      <td>184829.0</td>\n      <td>2310.0</td>\n      <td>2330.0</td>\n      <td>0.0</td>\n      <td>0.0</td>\n      <td>0.0</td>\n      <td>1.0</td>\n      <td>50 ms beam blips</td>\n    </tr>\n    <tr>\n      <th>37</th>\n      <td>184829.0</td>\n      <td>2360.0</td>\n      <td>2380.0</td>\n      <td>0.0</td>\n      <td>0.0</td>\n      <td>0.0</td>\n      <td>1.0</td>\n      <td>50 ms beam blips</td>\n    </tr>\n    <tr>\n      <th>38</th>\n      <td>184829.0</td>\n      <td>2410.0</td>\n      <td>2430.0</td>\n      <td>0.0</td>\n      <td>0.0</td>\n      <td>0.0</td>\n      <td>1.0</td>\n      <td>50 ms beam blips</td>\n    </tr>\n    <tr>\n      <th>39</th>\n      <td>184829.0</td>\n      <td>2460.0</td>\n      <td>2480.0</td>\n      <td>0.0</td>\n      <td>0.0</td>\n      <td>0.0</td>\n      <td>1.0</td>\n      <td>50 ms beam blips</td>\n    </tr>\n    <tr>\n      <th>40</th>\n      <td>184829.0</td>\n      <td>2510.0</td>\n      <td>2530.0</td>\n      <td>0.0</td>\n      <td>0.0</td>\n      <td>0.0</td>\n      <td>1.0</td>\n      <td>50 ms beam blips</td>\n    </tr>\n  </tbody>\n</table>\n</div>"
     },
     "execution_count": 7,
     "metadata": {},
     "output_type": "execute_result"
    }
   ],
   "source": [
    "base_dir = Path(Path.cwd()).parent / 'bes-edgeml-models/turbulence_regime_classification'\n",
    "label_df = pd.read_excel(base_dir/'confinement_database.xlsx').fillna(0)\n",
    "label_df"
   ],
   "metadata": {
    "collapsed": false,
    "pycharm": {
     "name": "#%%\n"
    }
   }
  },
  {
   "cell_type": "code",
   "execution_count": 8,
   "outputs": [],
   "source": [
    "def make_labels(data, df):\n",
    "    time = np.array(data['time'])\n",
    "    labels = np.zeros_like(time)\n",
    "    for i, row in df.iterrows():\n",
    "        tstart = row['tstart (ms)']\n",
    "        tstop = row['tstop (ms)']\n",
    "        label = row[[col for col in row.index if 'mode' in col]].values.argmax() + 1\n",
    "        labels[np.nonzero((time > tstart) & (time < tstop))] = label\n",
    "\n",
    "    return labels.tolist()"
   ],
   "metadata": {
    "collapsed": false,
    "pycharm": {
     "name": "#%%\n"
    }
   }
  },
  {
   "cell_type": "code",
   "execution_count": 11,
   "outputs": [
    {
     "name": "stdout",
     "output_type": "stream",
     "text": [
      "Processing shot 149995\n",
      "Processing shot 149992\n",
      "Processing shot 184815\n",
      "Processing shot 175490\n",
      "Processing shot 184829\n",
      "Processing shot 149994\n",
      "Processing shot 184826\n",
      "Processing shot 184813\n",
      "Signals: (12582912, 64)\n",
      "Labels: (12582912,)\n",
      "Time: (12582912,)\n"
     ]
    }
   ],
   "source": [
    "# get labeled files if they exists. Probably a better way to do this.\n",
    "files = [[],[],[]]\n",
    "for file in (base_dir/'data').iterdir():\n",
    "    try:\n",
    "        shot_num, labeled = re.findall(r'_(\\d+)_?(labeled)?.hdf5', str(file))[0]\n",
    "    except IndexError:\n",
    "        continue\n",
    "    if shot_num in files[0]:\n",
    "        i = files[0].index(shot_num)\n",
    "        if files[2][i] != 'labeled':\n",
    "            del files[0][i], files[1][i], files[2][i]\n",
    "        else:\n",
    "            continue\n",
    "    files[0].append(shot_num)\n",
    "    files[1].append(file)\n",
    "    files[2].append(labeled)\n",
    "\n",
    "\n",
    "files = [(sn, f) for sn, f, l in zip(*files)]\n",
    "\n",
    "overwrite = False\n",
    "signals, labels, time = [], [], []\n",
    "for shot_num, file in files:\n",
    "    shot_df = label_df.loc[label_df['shot'] == float(shot_num)]\n",
    "    if len(shot_df) == 0:\n",
    "        print(f'{shot_num} not in confinement database.')\n",
    "        continue\n",
    "    else:\n",
    "        print(f'Processing shot {shot_num}')\n",
    "\n",
    "    with h5py.File(file, 'a') as shot_data:\n",
    "        signals = np.array(shot_data['signals']).transpose().tolist()\n",
    "        time = np.array(shot_data['time']).tolist()\n",
    "        try:\n",
    "            labels = np.array(shot_data['labels']).tolist()\n",
    "        except KeyError:\n",
    "            labels = make_labels(shot_data, shot_df)\n",
    "\n",
    "            if overwrite:\n",
    "                shot_data.create_dataset('labels', data=labels)\n",
    "            else:\n",
    "                with h5py.File(f'{file.parent / (file.stem + \"_labeled\" + file.suffix)}', 'w') as sd:\n",
    "                    for group in shot_data.keys():\n",
    "                        shot_data.copy(group, sd)\n",
    "                    sd.create_dataset('labels', data=labels)\n",
    "\n",
    "    signals.extend(signals)\n",
    "    labels.extend(labels)\n",
    "    time.extend(time)\n",
    "\n",
    "\n",
    "signals = np.array(signals)\n",
    "labels = np.array(labels)\n",
    "time = np.array(time)\n",
    "\n",
    "print(f'Signals: {signals.shape}')\n",
    "print(f'Labels: {labels.shape}')\n",
    "print(f'Time: {time.shape}')"
   ],
   "metadata": {
    "collapsed": false,
    "pycharm": {
     "name": "#%%\n"
    }
   }
  },
  {
   "cell_type": "code",
   "execution_count": 15,
   "outputs": [
    {
     "data": {
      "text/plain": "6291456"
     },
     "execution_count": 15,
     "metadata": {},
     "output_type": "execute_result"
    }
   ],
   "source": [
    "shot_data = h5py.File(files[-1][-1], 'r')\n",
    "len(shot_data['labels'])"
   ],
   "metadata": {
    "collapsed": false,
    "pycharm": {
     "name": "#%%\n"
    }
   }
  }
 ],
 "metadata": {
  "kernelspec": {
   "display_name": "Python 3",
   "language": "python",
   "name": "python3"
  },
  "language_info": {
   "codemirror_mode": {
    "name": "ipython",
    "version": 2
   },
   "file_extension": ".py",
   "mimetype": "text/x-python",
   "name": "python",
   "nbconvert_exporter": "python",
   "pygments_lexer": "ipython2",
   "version": "2.7.6"
  }
 },
 "nbformat": 4,
 "nbformat_minor": 0
}